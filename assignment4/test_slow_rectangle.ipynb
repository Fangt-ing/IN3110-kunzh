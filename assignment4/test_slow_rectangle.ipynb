{
 "cells": [
  {
   "cell_type": "code",
   "execution_count": 1,
   "source": [
    "import numpy as np\r\n",
    "import time as tm"
   ],
   "outputs": [],
   "metadata": {}
  },
  {
   "cell_type": "code",
   "execution_count": 2,
   "source": [
    "def random_array(size, dim=3):\r\n",
    "    \"\"\"\r\n",
    "    Generate a random array of size size and dimension dim\r\n",
    "    \"\"\"\r\n",
    "    return np.random.rand(int(size), dim)"
   ],
   "outputs": [],
   "metadata": {}
  },
  {
   "cell_type": "code",
   "execution_count": 3,
   "source": [
    "def loop(array):\r\n",
    "    \"\"\"\r\n",
    "    Takes a numpy array and isolates all points that are within [0.52,0.6]\r\n",
    "    for the first column and between [0.88,0.96] for the second column by\r\n",
    "    looping through every point.\r\n",
    "    \"\"\"\r\n",
    "    filtered_list = []\r\n",
    "    for i in range(len(array)):\r\n",
    "        # Check if the point is within the rectangle\r\n",
    "        if ((array[i][0] >= 0.52)\r\n",
    "            and (array[i][1] >= 0.88)\r\n",
    "            and (array[i][0] <= 0.6)\r\n",
    "            and (array[i][1] <= 0.96)):\r\n",
    "            filtered_list.append(array[i])\r\n",
    "    return np.array(filtered_list)"
   ],
   "outputs": [],
   "metadata": {}
  },
  {
   "cell_type": "code",
   "execution_count": 4,
   "source": [
    "def snake_loop(array):\r\n",
    "    \"\"\"\r\n",
    "    Takes a numpy array and isolates all points in a given \r\n",
    "    range via array indexing by\r\n",
    "    looping through every point.\r\n",
    "    \"\"\"\r\n",
    "    filtered_list = []\r\n",
    "    for i in range(len(array)):\r\n",
    "        # Check if the point is within the rectangle\r\n",
    "        if (((array[i][0] >= 0.16)\r\n",
    "            and (array[i][1] >= 0.16)\r\n",
    "            and (array[i][0] <= 0.24)\r\n",
    "            and (array[i][1] <= 0.24))\r\n",
    "            #2nd square\r\n",
    "            or \r\n",
    "            ((array[i][0] >= 0.28)\r\n",
    "            and (array[i][1] >= 0.16)\r\n",
    "            and (array[i][0] <= 0.36)\r\n",
    "            and (array[i][1] <= 0.24))\r\n",
    "            #3nd square\r\n",
    "            or ((array[i][0] >= 0.4)\r\n",
    "            and (array[i][1] >= 0.16)\r\n",
    "            and (array[i][0] <= 0.48)\r\n",
    "            and (array[i][1] <= 0.24))\r\n",
    "            #4th square\r\n",
    "            or ((array[i][0] >= 0.4)\r\n",
    "            and (array[i][1] >= 0.28)\r\n",
    "            and (array[i][0] <= 0.48)\r\n",
    "            and (array[i][1] <= 0.36))\r\n",
    "            #5th square\r\n",
    "            or ((array[i][0] >= 0.52)\r\n",
    "            and (array[i][1] >= 0.28)\r\n",
    "            and (array[i][0] <= 0.6)\r\n",
    "            and (array[i][1] <= 0.36))\r\n",
    "            #5th square\r\n",
    "            or ((array[i][0] >= 0.52)\r\n",
    "            and (array[i][1] >= 0.4)\r\n",
    "            and (array[i][0] <= 0.6)\r\n",
    "            and (array[i][1] <= 0.48))\r\n",
    "            #6th square\r\n",
    "            or ((array[i][0] >= 0.52)\r\n",
    "            and (array[i][1] >= 0.52)\r\n",
    "            and (array[i][0] <= 0.6)\r\n",
    "            and (array[i][1] <= 0.6))\r\n",
    "            \r\n",
    "            #6th square\r\n",
    "            or ((array[i][0] >= 0.52)\r\n",
    "            and (array[i][1] >= 0.64)\r\n",
    "            and (array[i][0] <= 0.6)\r\n",
    "            and (array[i][1] <= 0.72))):\r\n",
    "            filtered_list.append(array[i])\r\n",
    "    return np.array(filtered_list)\r\n"
   ],
   "outputs": [],
   "metadata": {}
  },
  {
   "cell_type": "code",
   "execution_count": 5,
   "source": [
    "# Generate a random array of size 1e5\r\n",
    "array = random_array(1e5)\r\n",
    "filtered_array = snake_loop(array)\r\n",
    "filtered_array_snack = loop(array)\r\n",
    "\r\n",
    "#if running in a jupyter notebook you might this inline\r\n",
    "# Measure code execution with inline magic (Jupyter Notebook)\r\n",
    "#print('Loop:\\t', end='')\r\n",
    "#timeit loop(array)"
   ],
   "outputs": [],
   "metadata": {}
  },
  {
   "cell_type": "code",
   "execution_count": null,
   "source": [
    "# Plot the results\r\n",
    "import matplotlib.pyplot as plt\r\n",
    "\r\n",
    "#if running in a jupyter notebook you might this inline\r\n",
    "#matplotlib inline\r\n",
    "plt.figure(figsize=(10, 10))\r\n",
    "plt.title('Plot of Your Filters')\r\n",
    "plt.plot(array[:, 0], array[:, 1], 'k.')\r\n",
    "plt.plot(filtered_array[:, 0], filtered_array[:, 1], 'g.')\r\n",
    "plt.plot(filtered_array_snack[:, 0], filtered_array_snack[:, 1], 'r.')\r\n",
    "plt.show()"
   ],
   "outputs": [],
   "metadata": {}
  }
 ],
 "metadata": {
  "orig_nbformat": 4,
  "language_info": {
   "name": "python",
   "version": "3.9.7",
   "mimetype": "text/x-python",
   "codemirror_mode": {
    "name": "ipython",
    "version": 3
   },
   "pygments_lexer": "ipython3",
   "nbconvert_exporter": "python",
   "file_extension": ".py"
  },
  "kernelspec": {
   "name": "python3",
   "display_name": "Python 3.9.7 64-bit"
  },
  "interpreter": {
   "hash": "13fdf25ef2beee923e1f1011635d38d6ce68fb2882c6a64f76de1420ab9cc9f4"
  }
 },
 "nbformat": 4,
 "nbformat_minor": 2
}