{
 "cells": [
  {
   "cell_type": "code",
   "execution_count": 8,
   "source": [
    "import time\r\n",
    "def test():\r\n",
    "    for i in range(1, 10):\r\n",
    "        print(\"This is loop {}, and {:.2}.\".format(i, float(i**2)))"
   ],
   "outputs": [],
   "metadata": {}
  },
  {
   "cell_type": "code",
   "execution_count": 9,
   "source": [],
   "outputs": [
    {
     "output_type": "stream",
     "name": "stdout",
     "text": [
      "This is loop 1, and 1.0.\n",
      "This is loop 2, and 4.0.\n",
      "This is loop 3, and 9.0.\n",
      "This is loop 4, and 1.6e+01.\n",
      "This is loop 5, and 2.5e+01.\n",
      "This is loop 6, and 3.6e+01.\n",
      "This is loop 7, and 4.9e+01.\n",
      "This is loop 8, and 6.4e+01.\n",
      "This is loop 9, and 8.1e+01.\n"
     ]
    }
   ],
   "metadata": {}
  }
 ],
 "metadata": {
  "orig_nbformat": 4,
  "language_info": {
   "name": "python",
   "version": "3.9.7",
   "mimetype": "text/x-python",
   "codemirror_mode": {
    "name": "ipython",
    "version": 3
   },
   "pygments_lexer": "ipython3",
   "nbconvert_exporter": "python",
   "file_extension": ".py"
  },
  "kernelspec": {
   "name": "python3",
   "display_name": "Python 3.9.7 64-bit"
  },
  "interpreter": {
   "hash": "13fdf25ef2beee923e1f1011635d38d6ce68fb2882c6a64f76de1420ab9cc9f4"
  }
 },
 "nbformat": 4,
 "nbformat_minor": 2
}