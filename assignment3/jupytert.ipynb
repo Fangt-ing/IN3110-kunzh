{
 "cells": [
  {
   "cell_type": "code",
   "execution_count": 34,
   "source": [
    "def elements(ary):\r\n",
    "    for i in range(len(ary)):\r\n",
    "        return ary[i]"
   ],
   "outputs": [],
   "metadata": {}
  },
  {
   "cell_type": "code",
   "execution_count": 40,
   "source": [
    "# def match(a1, a2):\r\n",
    "#     equal = []\r\n",
    "#     if len(a1) != len(a2):\r\n",
    "#         # print('shape not match.')\r\n",
    "#         raise ValueError('Shapes of the 2 arrays do not match')\r\n",
    "#     elif len(a1) == len(a2):\r\n",
    "#         for i in range(len(a1)):\r\n",
    "#             if a1[i] == a2[i]:\r\n",
    "#                 equal.append(True)\r\n",
    "#             elif not a1[i] == a2[i]:\r\n",
    "#                 equal.append(False)\r\n",
    "#         print(equal)\r\n",
    "        \r\n",
    "#     else:\r\n",
    "#         print(\"Length of the array don't match!\")"
   ],
   "outputs": [],
   "metadata": {}
  },
  {
   "cell_type": "code",
   "execution_count": 36,
   "source": [
    "a = [2, 4, 5, 6]\r\n",
    "b = [2, 4, 6, 6]"
   ],
   "outputs": [],
   "metadata": {}
  },
  {
   "cell_type": "code",
   "execution_count": 37,
   "source": [
    "match(a, b)"
   ],
   "outputs": [
    {
     "output_type": "stream",
     "name": "stdout",
     "text": [
      "value not matching.\n"
     ]
    },
    {
     "output_type": "execute_result",
     "data": {
      "text/plain": [
       "False"
      ]
     },
     "metadata": {},
     "execution_count": 37
    }
   ],
   "metadata": {}
  },
  {
   "cell_type": "code",
   "execution_count": 38,
   "source": [
    "def __eq__(ary, other):\r\n",
    "    if len(ary) != len(len(other)):\r\n",
    "        print('shape not matching.')\r\n",
    "        return False\r\n",
    "    elif len(ary) == len(len(other)):\r\n",
    "        for i in range(ary):\r\n",
    "            if ary[i] == other[i]:\r\n",
    "                eq = True\r\n",
    "            elif ary[i] == other[i]:\r\n",
    "                eq = False\r\n",
    "                break\r\n",
    "        print('value not matching.')\r\n",
    "        return eq\r\n",
    "    elif type(other) != int or float or bool:\r\n",
    "        return False"
   ],
   "outputs": [],
   "metadata": {}
  },
  {
   "cell_type": "code",
   "execution_count": 39,
   "source": [
    "a = [2, 4, 5, 6]\r\n",
    "b = [2, 4, 6, 6]\r\n",
    "match(a, b)"
   ],
   "outputs": [
    {
     "output_type": "stream",
     "name": "stdout",
     "text": [
      "value not matching.\n"
     ]
    },
    {
     "output_type": "execute_result",
     "data": {
      "text/plain": [
       "False"
      ]
     },
     "metadata": {},
     "execution_count": 39
    }
   ],
   "metadata": {}
  }
 ],
 "metadata": {
  "orig_nbformat": 4,
  "language_info": {
   "name": "python",
   "version": "3.9.7",
   "mimetype": "text/x-python",
   "codemirror_mode": {
    "name": "ipython",
    "version": 3
   },
   "pygments_lexer": "ipython3",
   "nbconvert_exporter": "python",
   "file_extension": ".py"
  },
  "kernelspec": {
   "name": "python3",
   "display_name": "Python 3.9.7 64-bit"
  },
  "interpreter": {
   "hash": "13fdf25ef2beee923e1f1011635d38d6ce68fb2882c6a64f76de1420ab9cc9f4"
  }
 },
 "nbformat": 4,
 "nbformat_minor": 2
}