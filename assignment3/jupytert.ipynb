{
 "cells": [
  {
   "cell_type": "code",
   "execution_count": 49,
   "source": [
    "de = (3, 2)\r\n",
    "a=[8, 3, 4, 1, 6, 1]\r\n",
    "nd =[]\r\n",
    "lde = list(de)\r\n",
    "\r\n",
    "\r\n",
    "for j in range(de[0]):\r\n",
    "    \r\n",
    "    nd.append(a[de[-1]*j: de[-1]*(j+1)])\r\n",
    "    print(de[j-1])\r\n",
    "nd"
   ],
   "outputs": [
    {
     "output_type": "stream",
     "name": "stdout",
     "text": [
      "2\n",
      "3\n",
      "2\n"
     ]
    },
    {
     "output_type": "execute_result",
     "data": {
      "text/plain": [
       "[[8, 3], [4, 1], [6, 1]]"
      ]
     },
     "metadata": {},
     "execution_count": 49
    }
   ],
   "metadata": {}
  },
  {
   "cell_type": "code",
   "execution_count": 53,
   "source": [
    "nd[[1][0]]"
   ],
   "outputs": [
    {
     "output_type": "execute_result",
     "data": {
      "text/plain": [
       "[4, 1]"
      ]
     },
     "metadata": {},
     "execution_count": 53
    }
   ],
   "metadata": {}
  }
 ],
 "metadata": {
  "orig_nbformat": 4,
  "language_info": {
   "name": "python",
   "version": "3.9.7",
   "mimetype": "text/x-python",
   "codemirror_mode": {
    "name": "ipython",
    "version": 3
   },
   "pygments_lexer": "ipython3",
   "nbconvert_exporter": "python",
   "file_extension": ".py"
  },
  "kernelspec": {
   "name": "python3",
   "display_name": "Python 3.9.7 64-bit"
  },
  "interpreter": {
   "hash": "13fdf25ef2beee923e1f1011635d38d6ce68fb2882c6a64f76de1420ab9cc9f4"
  }
 },
 "nbformat": 4,
 "nbformat_minor": 2
}