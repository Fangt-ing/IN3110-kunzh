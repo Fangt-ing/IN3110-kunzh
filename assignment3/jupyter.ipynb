{
 "cells": [
  {
   "cell_type": "code",
   "execution_count": 148,
   "source": [
    "class ary:\r\n",
    "    def __init__(self, *values):\r\n",
    "        self.elt = list(values)\r\n",
    "        self.__str__()\r\n",
    "        \r\n",
    "    def __add__(self, other):\r\n",
    "        # na = ary()\r\n",
    "        # for i in range(len(self.elt)):\r\n",
    "        #     self.elt[i] = self.elt[i] + other\r\n",
    "        self.elt = list(map(lambda x: x + other, self.elt))\r\n",
    "        # print(na.elt)\r\n",
    "        return self.ary\r\n",
    "    \r\n",
    "    def __radd__(self, other):\r\n",
    "        # for i in range(len(self.elt)):\r\n",
    "        #     self.elt[i] = self.elt[i] + other\r\n",
    "    # self.elt = list(map(lambda x: x + other, self.elt))\r\n",
    "        return self.__add__(other)\r\n",
    "    \r\n",
    "    def __str__(self):\r\n",
    "        return str(self.elt)\r\n",
    "\r\n",
    "    def __getitem__(self, item):\r\n",
    "        return self.elt[item]"
   ],
   "outputs": [],
   "metadata": {}
  },
  {
   "cell_type": "code",
   "execution_count": 149,
   "source": [
    "a = ary(1, 0, 1, 2, 3)\r\n",
    "m = 10\r\n"
   ],
   "outputs": [],
   "metadata": {}
  },
  {
   "cell_type": "code",
   "execution_count": 155,
   "source": [
    "len(1)"
   ],
   "outputs": [
    {
     "output_type": "error",
     "ename": "TypeError",
     "evalue": "object of type 'int' has no len()",
     "traceback": [
      "\u001b[1;31m---------------------------------------------------------------------------\u001b[0m",
      "\u001b[1;31mTypeError\u001b[0m                                 Traceback (most recent call last)",
      "\u001b[1;32m~\\AppData\\Local\\Temp/ipykernel_11760/2982808344.py\u001b[0m in \u001b[0;36m<module>\u001b[1;34m\u001b[0m\n\u001b[1;32m----> 1\u001b[1;33m \u001b[0mlen\u001b[0m\u001b[1;33m(\u001b[0m\u001b[1;36m1\u001b[0m\u001b[1;33m)\u001b[0m\u001b[1;33m\u001b[0m\u001b[1;33m\u001b[0m\u001b[0m\n\u001b[0m",
      "\u001b[1;31mTypeError\u001b[0m: object of type 'int' has no len()"
     ]
    }
   ],
   "metadata": {}
  }
 ],
 "metadata": {
  "orig_nbformat": 4,
  "language_info": {
   "name": "python",
   "version": "3.9.7",
   "mimetype": "text/x-python",
   "codemirror_mode": {
    "name": "ipython",
    "version": 3
   },
   "pygments_lexer": "ipython3",
   "nbconvert_exporter": "python",
   "file_extension": ".py"
  },
  "kernelspec": {
   "name": "python3",
   "display_name": "Python 3.9.7 64-bit"
  },
  "interpreter": {
   "hash": "13fdf25ef2beee923e1f1011635d38d6ce68fb2882c6a64f76de1420ab9cc9f4"
  }
 },
 "nbformat": 4,
 "nbformat_minor": 2
}